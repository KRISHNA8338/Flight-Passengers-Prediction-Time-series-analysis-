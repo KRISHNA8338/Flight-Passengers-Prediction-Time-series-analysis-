{
 "cells": [
  {
   "cell_type": "markdown",
   "metadata": {},
   "source": [
    "### Airlines Passenger Forecasting using Stacked LSTM"
   ]
  },
  {
   "cell_type": "markdown",
   "metadata": {},
   "source": [
    "This is a problem where, given a year and a month, the task is to predict the number of international airline passengers in units of 1,000. The data ranges from January 1949 to December 1960, or 12 years, with 144 observations."
   ]
  },
  {
   "cell_type": "code",
   "execution_count": 1,
   "metadata": {},
   "outputs": [],
   "source": [
    "#kaggle dataset\n",
    "#https://www.kaggle.com/rakannimer/air-passengers?select=AirPassengers.csv"
   ]
  },
  {
   "cell_type": "code",
   "execution_count": 2,
   "metadata": {},
   "outputs": [],
   "source": [
    "import pandas as pd"
   ]
  },
  {
   "cell_type": "code",
   "execution_count": 3,
   "metadata": {},
   "outputs": [],
   "source": [
    "df=pd.read_csv('AirPassengers.csv')"
   ]
  },
  {
   "cell_type": "code",
   "execution_count": 4,
   "metadata": {},
   "outputs": [
    {
     "data": {
      "text/html": [
       "<div>\n",
       "<style scoped>\n",
       "    .dataframe tbody tr th:only-of-type {\n",
       "        vertical-align: middle;\n",
       "    }\n",
       "\n",
       "    .dataframe tbody tr th {\n",
       "        vertical-align: top;\n",
       "    }\n",
       "\n",
       "    .dataframe thead th {\n",
       "        text-align: right;\n",
       "    }\n",
       "</style>\n",
       "<table border=\"1\" class=\"dataframe\">\n",
       "  <thead>\n",
       "    <tr style=\"text-align: right;\">\n",
       "      <th></th>\n",
       "      <th>Month</th>\n",
       "      <th>#Passengers</th>\n",
       "    </tr>\n",
       "  </thead>\n",
       "  <tbody>\n",
       "    <tr>\n",
       "      <th>0</th>\n",
       "      <td>1949-01</td>\n",
       "      <td>112</td>\n",
       "    </tr>\n",
       "    <tr>\n",
       "      <th>1</th>\n",
       "      <td>1949-02</td>\n",
       "      <td>118</td>\n",
       "    </tr>\n",
       "    <tr>\n",
       "      <th>2</th>\n",
       "      <td>1949-03</td>\n",
       "      <td>132</td>\n",
       "    </tr>\n",
       "    <tr>\n",
       "      <th>3</th>\n",
       "      <td>1949-04</td>\n",
       "      <td>129</td>\n",
       "    </tr>\n",
       "    <tr>\n",
       "      <th>4</th>\n",
       "      <td>1949-05</td>\n",
       "      <td>121</td>\n",
       "    </tr>\n",
       "  </tbody>\n",
       "</table>\n",
       "</div>"
      ],
      "text/plain": [
       "     Month  #Passengers\n",
       "0  1949-01          112\n",
       "1  1949-02          118\n",
       "2  1949-03          132\n",
       "3  1949-04          129\n",
       "4  1949-05          121"
      ]
     },
     "execution_count": 4,
     "metadata": {},
     "output_type": "execute_result"
    }
   ],
   "source": [
    "df.head()"
   ]
  },
  {
   "cell_type": "code",
   "execution_count": 5,
   "metadata": {},
   "outputs": [
    {
     "data": {
      "text/html": [
       "<div>\n",
       "<style scoped>\n",
       "    .dataframe tbody tr th:only-of-type {\n",
       "        vertical-align: middle;\n",
       "    }\n",
       "\n",
       "    .dataframe tbody tr th {\n",
       "        vertical-align: top;\n",
       "    }\n",
       "\n",
       "    .dataframe thead th {\n",
       "        text-align: right;\n",
       "    }\n",
       "</style>\n",
       "<table border=\"1\" class=\"dataframe\">\n",
       "  <thead>\n",
       "    <tr style=\"text-align: right;\">\n",
       "      <th></th>\n",
       "      <th>Month</th>\n",
       "      <th>#Passengers</th>\n",
       "    </tr>\n",
       "  </thead>\n",
       "  <tbody>\n",
       "    <tr>\n",
       "      <th>139</th>\n",
       "      <td>1960-08</td>\n",
       "      <td>606</td>\n",
       "    </tr>\n",
       "    <tr>\n",
       "      <th>140</th>\n",
       "      <td>1960-09</td>\n",
       "      <td>508</td>\n",
       "    </tr>\n",
       "    <tr>\n",
       "      <th>141</th>\n",
       "      <td>1960-10</td>\n",
       "      <td>461</td>\n",
       "    </tr>\n",
       "    <tr>\n",
       "      <th>142</th>\n",
       "      <td>1960-11</td>\n",
       "      <td>390</td>\n",
       "    </tr>\n",
       "    <tr>\n",
       "      <th>143</th>\n",
       "      <td>1960-12</td>\n",
       "      <td>432</td>\n",
       "    </tr>\n",
       "  </tbody>\n",
       "</table>\n",
       "</div>"
      ],
      "text/plain": [
       "       Month  #Passengers\n",
       "139  1960-08          606\n",
       "140  1960-09          508\n",
       "141  1960-10          461\n",
       "142  1960-11          390\n",
       "143  1960-12          432"
      ]
     },
     "execution_count": 5,
     "metadata": {},
     "output_type": "execute_result"
    }
   ],
   "source": [
    "df.tail()"
   ]
  },
  {
   "cell_type": "code",
   "execution_count": 6,
   "metadata": {},
   "outputs": [],
   "source": [
    "import matplotlib.pyplot as plt"
   ]
  },
  {
   "cell_type": "code",
   "execution_count": 7,
   "metadata": {
    "scrolled": true
   },
   "outputs": [
    {
     "data": {
      "text/plain": [
       "[<matplotlib.lines.Line2D at 0x148e4057648>]"
      ]
     },
     "execution_count": 7,
     "metadata": {},
     "output_type": "execute_result"
    },
    {
     "data": {
      "image/png": "[encoded data removed]",
      "text/plain": [
       "<Figure size 432x288 with 1 Axes>"
      ]
     },
     "metadata": {
      "needs_background": "light"
     },
     "output_type": "display_data"
    }
   ],
   "source": [
    "plt.plot(df.iloc[:,1])"
   ]
  },
  {
   "cell_type": "markdown",
   "metadata": {},
   "source": [
    "### Scaling\n",
    "LSTMs are sensitive to the scale of the input data, specifically when the sigmoid (default) or tanh activation functions are used. It can be a good practice to rescale the data to the range of 0-to-1, also called normalizing. We can easily normalize the dataset using the MinMaxScaler preprocessing class from the scikit-learn library."
   ]
  },
  {
   "cell_type": "code",
   "execution_count": 8,
   "metadata": {},
   "outputs": [],
   "source": [
    "from sklearn.preprocessing import MinMaxScaler"
   ]
  },
  {
   "cell_type": "code",
   "execution_count": 9,
   "metadata": {},
   "outputs": [
    {
     "data": {
      "text/plain": [
       "0      112\n",
       "1      118\n",
       "2      132\n",
       "3      129\n",
       "4      121\n",
       "      ... \n",
       "139    606\n",
       "140    508\n",
       "141    461\n",
       "142    390\n",
       "143    432\n",
       "Name: #Passengers, Length: 144, dtype: int64"
      ]
     },
     "execution_count": 9,
     "metadata": {},
     "output_type": "execute_result"
    }
   ],
   "source": [
    "df.iloc[:,1]"
   ]
  },
  {
   "cell_type": "code",
   "execution_count": 10,
   "metadata": {},
   "outputs": [],
   "source": [
    "scaler=MinMaxScaler(feature_range=(0,1))\n",
    "df=scaler.fit_transform(df.iloc[:,1:])"
   ]
  },
  {
   "cell_type": "code",
   "execution_count": 11,
   "metadata": {},
   "outputs": [
    {
     "data": {
      "text/plain": [
       "(144, 1)"
      ]
     },
     "execution_count": 11,
     "metadata": {},
     "output_type": "execute_result"
    }
   ],
   "source": [
    "df.shape"
   ]
  },
  {
   "cell_type": "code",
   "execution_count": 12,
   "metadata": {},
   "outputs": [
    {
     "data": {
      "text/plain": [
       "array([[0.01544402],\n",
       "       [0.02702703],\n",
       "       [0.05405405],\n",
       "       [0.04826255],\n",
       "       [0.03281853],\n",
       "       [0.05984556],\n",
       "       [0.08494208],\n",
       "       [0.08494208],\n",
       "       [0.06177606],\n",
       "       [0.02895753],\n",
       "       [0.        ],\n",
       "       [0.02702703],\n",
       "       [0.02123552],\n",
       "       [0.04247104],\n",
       "       [0.07142857],\n",
       "       [0.05984556],\n",
       "       [0.04054054],\n",
       "       [0.08687259],\n",
       "       [0.12741313],\n",
       "       [0.12741313],\n",
       "       [0.1042471 ],\n",
       "       [0.05598456],\n",
       "       [0.01930502],\n",
       "       [0.06949807],\n",
       "       [0.07915058],\n",
       "       [0.08880309],\n",
       "       [0.14285714],\n",
       "       [0.11389961],\n",
       "       [0.13127413],\n",
       "       [0.14285714],\n",
       "       [0.18339768],\n",
       "       [0.18339768],\n",
       "       [0.15444015],\n",
       "       [0.11196911],\n",
       "       [0.08108108],\n",
       "       [0.11969112],\n",
       "       [0.12934363],\n",
       "       [0.14671815],\n",
       "       [0.17181467],\n",
       "       [0.14864865],\n",
       "       [0.15250965],\n",
       "       [0.22007722],\n",
       "       [0.24324324],\n",
       "       [0.26640927],\n",
       "       [0.2027027 ],\n",
       "       [0.16795367],\n",
       "       [0.13127413],\n",
       "       [0.17374517],\n",
       "       [0.17760618],\n",
       "       [0.17760618],\n",
       "       [0.25482625],\n",
       "       [0.25289575],\n",
       "       [0.24131274],\n",
       "       [0.26833977],\n",
       "       [0.30888031],\n",
       "       [0.32432432],\n",
       "       [0.25675676],\n",
       "       [0.20656371],\n",
       "       [0.14671815],\n",
       "       [0.18725869],\n",
       "       [0.19305019],\n",
       "       [0.16216216],\n",
       "       [0.25289575],\n",
       "       [0.23745174],\n",
       "       [0.25096525],\n",
       "       [0.30888031],\n",
       "       [0.38223938],\n",
       "       [0.36486486],\n",
       "       [0.2992278 ],\n",
       "       [0.24131274],\n",
       "       [0.19111969],\n",
       "       [0.24131274],\n",
       "       [0.26640927],\n",
       "       [0.24903475],\n",
       "       [0.31467181],\n",
       "       [0.31853282],\n",
       "       [0.32046332],\n",
       "       [0.40733591],\n",
       "       [0.5019305 ],\n",
       "       [0.46911197],\n",
       "       [0.4015444 ],\n",
       "       [0.32818533],\n",
       "       [0.25675676],\n",
       "       [0.33590734],\n",
       "       [0.34749035],\n",
       "       [0.33397683],\n",
       "       [0.41119691],\n",
       "       [0.4034749 ],\n",
       "       [0.41312741],\n",
       "       [0.52123552],\n",
       "       [0.5965251 ],\n",
       "       [0.58108108],\n",
       "       [0.48455598],\n",
       "       [0.38996139],\n",
       "       [0.32239382],\n",
       "       [0.38996139],\n",
       "       [0.40733591],\n",
       "       [0.38030888],\n",
       "       [0.48648649],\n",
       "       [0.47104247],\n",
       "       [0.48455598],\n",
       "       [0.61389961],\n",
       "       [0.6969112 ],\n",
       "       [0.7007722 ],\n",
       "       [0.57915058],\n",
       "       [0.46911197],\n",
       "       [0.38803089],\n",
       "       [0.44787645],\n",
       "       [0.45559846],\n",
       "       [0.41312741],\n",
       "       [0.4980695 ],\n",
       "       [0.47104247],\n",
       "       [0.5       ],\n",
       "       [0.63899614],\n",
       "       [0.74710425],\n",
       "       [0.77413127],\n",
       "       [0.57915058],\n",
       "       [0.49227799],\n",
       "       [0.3976834 ],\n",
       "       [0.44980695],\n",
       "       [0.49420849],\n",
       "       [0.45945946],\n",
       "       [0.58301158],\n",
       "       [0.56370656],\n",
       "       [0.61003861],\n",
       "       [0.71042471],\n",
       "       [0.85714286],\n",
       "       [0.87837838],\n",
       "       [0.69305019],\n",
       "       [0.58494208],\n",
       "       [0.4980695 ],\n",
       "       [0.58108108],\n",
       "       [0.6042471 ],\n",
       "       [0.55405405],\n",
       "       [0.60810811],\n",
       "       [0.68918919],\n",
       "       [0.71042471],\n",
       "       [0.83204633],\n",
       "       [1.        ],\n",
       "       [0.96911197],\n",
       "       [0.77992278],\n",
       "       [0.68918919],\n",
       "       [0.55212355],\n",
       "       [0.63320463]])"
      ]
     },
     "execution_count": 12,
     "metadata": {},
     "output_type": "execute_result"
    }
   ],
   "source": [
    "df"
   ]
  },
  {
   "cell_type": "code",
   "execution_count": 13,
   "metadata": {},
   "outputs": [],
   "source": [
    "##splitting dataset into train and test split\n",
    "training_size=int(len(df)*0.65)"
   ]
  },
  {
   "cell_type": "code",
   "execution_count": 14,
   "metadata": {},
   "outputs": [
    {
     "data": {
      "text/plain": [
       "93"
      ]
     },
     "execution_count": 14,
     "metadata": {},
     "output_type": "execute_result"
    }
   ],
   "source": [
    "training_size"
   ]
  },
  {
   "cell_type": "code",
   "execution_count": 15,
   "metadata": {},
   "outputs": [],
   "source": [
    "test_size=len(df)-training_size"
   ]
  },
  {
   "cell_type": "code",
   "execution_count": 16,
   "metadata": {},
   "outputs": [
    {
     "data": {
      "text/plain": [
       "51"
      ]
     },
     "execution_count": 16,
     "metadata": {},
     "output_type": "execute_result"
    }
   ],
   "source": [
    "test_size"
   ]
  },
  {
   "cell_type": "code",
   "execution_count": 17,
   "metadata": {},
   "outputs": [],
   "source": [
    "train_data,test_data=df[0:training_size,:],df[training_size:len(df),:1]"
   ]
  },
  {
   "cell_type": "code",
   "execution_count": 18,
   "metadata": {},
   "outputs": [
    {
     "data": {
      "text/plain": [
       "array([[0.38996139],\n",
       "       [0.32239382],\n",
       "       [0.38996139],\n",
       "       [0.40733591],\n",
       "       [0.38030888],\n",
       "       [0.48648649],\n",
       "       [0.47104247],\n",
       "       [0.48455598],\n",
       "       [0.61389961],\n",
       "       [0.6969112 ],\n",
       "       [0.7007722 ],\n",
       "       [0.57915058],\n",
       "       [0.46911197],\n",
       "       [0.38803089],\n",
       "       [0.44787645],\n",
       "       [0.45559846],\n",
       "       [0.41312741],\n",
       "       [0.4980695 ],\n",
       "       [0.47104247],\n",
       "       [0.5       ],\n",
       "       [0.63899614],\n",
       "       [0.74710425],\n",
       "       [0.77413127],\n",
       "       [0.57915058],\n",
       "       [0.49227799],\n",
       "       [0.3976834 ],\n",
       "       [0.44980695],\n",
       "       [0.49420849],\n",
       "       [0.45945946],\n",
       "       [0.58301158],\n",
       "       [0.56370656],\n",
       "       [0.61003861],\n",
       "       [0.71042471],\n",
       "       [0.85714286],\n",
       "       [0.87837838],\n",
       "       [0.69305019],\n",
       "       [0.58494208],\n",
       "       [0.4980695 ],\n",
       "       [0.58108108],\n",
       "       [0.6042471 ],\n",
       "       [0.55405405],\n",
       "       [0.60810811],\n",
       "       [0.68918919],\n",
       "       [0.71042471],\n",
       "       [0.83204633],\n",
       "       [1.        ],\n",
       "       [0.96911197],\n",
       "       [0.77992278],\n",
       "       [0.68918919],\n",
       "       [0.55212355],\n",
       "       [0.63320463]])"
      ]
     },
     "execution_count": 18,
     "metadata": {},
     "output_type": "execute_result"
    }
   ],
   "source": [
    "test_data"
   ]
  },
  {
   "cell_type": "code",
   "execution_count": 19,
   "metadata": {},
   "outputs": [],
   "source": [
    "import numpy\n",
    "# convert an array of values into a dataset matrix\n",
    "def create_dataset(dataset, time_step=1):\n",
    "\tdataX, dataY = [], []\n",
    "\tfor i in range(len(dataset)-time_step-1):\n",
    "\t\ta = dataset[i:(i+time_step), 0]   ###i=0, 0,1,2,3\n",
    "\t\tdataX.append(a)\n",
    "\t\tdataY.append(dataset[i + time_step, 0])\n",
    "\treturn numpy.array(dataX), numpy.array(dataY)"
   ]
  },
  {
   "cell_type": "code",
   "execution_count": 20,
   "metadata": {},
   "outputs": [],
   "source": [
    "# reshape into X=t,t+1,t+2,t+3 and Y=t+4\n",
    "time_step = 4\n",
    "X_train, y_train = create_dataset(train_data, time_step)\n",
    "X_test, y_test = create_dataset(test_data, time_step)"
   ]
  },
  {
   "cell_type": "code",
   "execution_count": 21,
   "metadata": {},
   "outputs": [
    {
     "data": {
      "text/plain": [
       "((88, 4), (88,))"
      ]
     },
     "execution_count": 21,
     "metadata": {},
     "output_type": "execute_result"
    }
   ],
   "source": [
    "X_train.shape, y_train.shape"
   ]
  },
  {
   "cell_type": "code",
   "execution_count": 39,
   "metadata": {
    "scrolled": false
   },
   "outputs": [
    {
     "name": "stdout",
     "output_type": "stream",
     "text": [
      "[[[0.02702703]\n",
      "  [0.05405405]\n",
      "  [0.04826255]\n",
      "  [0.03281853]]\n",
      "\n",
      " [[0.05405405]\n",
      "  [0.04826255]\n",
      "  [0.03281853]\n",
      "  [0.05984556]]\n",
      "\n",
      " [[0.04826255]\n",
      "  [0.03281853]\n",
      "  [0.05984556]\n",
      "  [0.08494208]]\n",
      "\n",
      " [[0.03281853]\n",
      "  [0.05984556]\n",
      "  [0.08494208]\n",
      "  [0.08494208]]\n",
      "\n",
      " [[0.05984556]\n",
      "  [0.08494208]\n",
      "  [0.08494208]\n",
      "  [0.06177606]]\n",
      "\n",
      " [[0.08494208]\n",
      "  [0.08494208]\n",
      "  [0.06177606]\n",
      "  [0.02895753]]\n",
      "\n",
      " [[0.08494208]\n",
      "  [0.06177606]\n",
      "  [0.02895753]\n",
      "  [0.        ]]\n",
      "\n",
      " [[0.06177606]\n",
      "  [0.02895753]\n",
      "  [0.        ]\n",
      "  [0.02702703]]\n",
      "\n",
      " [[0.02895753]\n",
      "  [0.        ]\n",
      "  [0.02702703]\n",
      "  [0.02123552]]]\n",
      "[0.05984556 0.08494208 0.08494208 0.06177606 0.02895753 0.\n",
      " 0.02702703 0.02123552 0.04247104]\n"
     ]
    }
   ],
   "source": [
    "print(X_train[1:10])\n",
    "print(y_train[1:10])"
   ]
  },
  {
   "cell_type": "code",
   "execution_count": 41,
   "metadata": {
    "scrolled": false
   },
   "outputs": [
    {
     "name": "stdout",
     "output_type": "stream",
     "text": [
      "[[[0.32239382]\n",
      "  [0.38996139]\n",
      "  [0.40733591]\n",
      "  [0.38030888]]\n",
      "\n",
      " [[0.38996139]\n",
      "  [0.40733591]\n",
      "  [0.38030888]\n",
      "  [0.48648649]]\n",
      "\n",
      " [[0.40733591]\n",
      "  [0.38030888]\n",
      "  [0.48648649]\n",
      "  [0.47104247]]\n",
      "\n",
      " [[0.38030888]\n",
      "  [0.48648649]\n",
      "  [0.47104247]\n",
      "  [0.48455598]]\n",
      "\n",
      " [[0.48648649]\n",
      "  [0.47104247]\n",
      "  [0.48455598]\n",
      "  [0.61389961]]\n",
      "\n",
      " [[0.47104247]\n",
      "  [0.48455598]\n",
      "  [0.61389961]\n",
      "  [0.6969112 ]]\n",
      "\n",
      " [[0.48455598]\n",
      "  [0.61389961]\n",
      "  [0.6969112 ]\n",
      "  [0.7007722 ]]\n",
      "\n",
      " [[0.61389961]\n",
      "  [0.6969112 ]\n",
      "  [0.7007722 ]\n",
      "  [0.57915058]]\n",
      "\n",
      " [[0.6969112 ]\n",
      "  [0.7007722 ]\n",
      "  [0.57915058]\n",
      "  [0.46911197]]]\n",
      "[0.48648649 0.47104247 0.48455598 0.61389961 0.6969112  0.7007722\n",
      " 0.57915058 0.46911197 0.38803089]\n"
     ]
    }
   ],
   "source": [
    "print(X_test[1:10])\n",
    "print(y_test[1:10])"
   ]
  },
  {
   "cell_type": "code",
   "execution_count": 22,
   "metadata": {},
   "outputs": [],
   "source": [
    "import numpy as np\n",
    "# reshape input to be [samples, time steps, features] which is required for LSTM\n",
    "X_train =X_train.reshape(X_train.shape[0], 4, 1)\n",
    "X_test = X_test.reshape(X_test.shape[0], 4, 1)"
   ]
  },
  {
   "cell_type": "code",
   "execution_count": 23,
   "metadata": {},
   "outputs": [
    {
     "data": {
      "text/plain": [
       "(88, 4, 1)"
      ]
     },
     "execution_count": 23,
     "metadata": {},
     "output_type": "execute_result"
    }
   ],
   "source": [
    "X_train.shape"
   ]
  },
  {
   "cell_type": "code",
   "execution_count": 24,
   "metadata": {},
   "outputs": [],
   "source": [
    "### Create the LSTM model\n",
    "from tensorflow.keras.models import Sequential\n",
    "from tensorflow.keras.layers import Dense\n",
    "from tensorflow.keras.layers import LSTM"
   ]
  },
  {
   "cell_type": "code",
   "execution_count": 25,
   "metadata": {},
   "outputs": [
    {
     "name": "stdout",
     "output_type": "stream",
     "text": [
      "Train on 88 samples, validate on 46 samples\n",
      "Epoch 1/100\n",
      "88/88 [==============================] - 15s 166ms/sample - loss: 0.0125 - val_loss: 0.0408\n",
      "Epoch 2/100\n",
      "88/88 [==============================] - 1s 8ms/sample - loss: 0.0059 - val_loss: 0.0287\n",
      "Epoch 3/100\n",
      "88/88 [==============================] - 0s 5ms/sample - loss: 0.0059 - val_loss: 0.0293\n",
      "Epoch 4/100\n",
      "88/88 [==============================] - 0s 5ms/sample - loss: 0.0055 - val_loss: 0.0291\n",
      "Epoch 5/100\n",
      "88/88 [==============================] - 1s 6ms/sample - loss: 0.0054 - val_loss: 0.0280\n",
      "Epoch 6/100\n",
      "88/88 [==============================] - 0s 5ms/sample - loss: 0.0050 - val_loss: 0.0284\n",
      "Epoch 7/100\n",
      "88/88 [==============================] - 0s 5ms/sample - loss: 0.0051 - val_loss: 0.0266\n",
      "Epoch 8/100\n",
      "88/88 [==============================] - 0s 5ms/sample - loss: 0.0049 - val_loss: 0.0233\n",
      "Epoch 9/100\n",
      "88/88 [==============================] - 0s 5ms/sample - loss: 0.0051 - val_loss: 0.0259\n",
      "Epoch 10/100\n",
      "88/88 [==============================] - 0s 5ms/sample - loss: 0.0053 - val_loss: 0.0209\n",
      "Epoch 11/100\n",
      "88/88 [==============================] - 0s 6ms/sample - loss: 0.0044 - val_loss: 0.0291\n",
      "Epoch 12/100\n",
      "88/88 [==============================] - 1s 6ms/sample - loss: 0.0046 - val_loss: 0.0187\n",
      "Epoch 13/100\n",
      "88/88 [==============================] - 0s 5ms/sample - loss: 0.0046 - val_loss: 0.0353\n",
      "Epoch 14/100\n",
      "88/88 [==============================] - 0s 6ms/sample - loss: 0.0035 - val_loss: 0.0164\n",
      "Epoch 15/100\n",
      "88/88 [==============================] - 0s 6ms/sample - loss: 0.0039 - val_loss: 0.0155\n",
      "Epoch 16/100\n",
      "88/88 [==============================] - 1s 6ms/sample - loss: 0.0036 - val_loss: 0.0141\n",
      "Epoch 17/100\n",
      "88/88 [==============================] - 0s 6ms/sample - loss: 0.0032 - val_loss: 0.0151\n",
      "Epoch 18/100\n",
      "88/88 [==============================] - 0s 5ms/sample - loss: 0.0039 - val_loss: 0.0098\n",
      "Epoch 19/100\n",
      "88/88 [==============================] - 0s 5ms/sample - loss: 0.0033 - val_loss: 0.0105\n",
      "Epoch 20/100\n",
      "88/88 [==============================] - 0s 5ms/sample - loss: 0.0026 - val_loss: 0.0091\n",
      "Epoch 21/100\n",
      "88/88 [==============================] - 0s 5ms/sample - loss: 0.0024 - val_loss: 0.0075\n",
      "Epoch 22/100\n",
      "88/88 [==============================] - 0s 5ms/sample - loss: 0.0020 - val_loss: 0.0101\n",
      "Epoch 23/100\n",
      "88/88 [==============================] - 0s 5ms/sample - loss: 0.0021 - val_loss: 0.0122\n",
      "Epoch 24/100\n",
      "88/88 [==============================] - 1s 6ms/sample - loss: 0.0024 - val_loss: 0.0090\n",
      "Epoch 25/100\n",
      "88/88 [==============================] - 1s 6ms/sample - loss: 0.0018 - val_loss: 0.0085\n",
      "Epoch 26/100\n",
      "88/88 [==============================] - 0s 5ms/sample - loss: 0.0023 - val_loss: 0.0080\n",
      "Epoch 27/100\n",
      "88/88 [==============================] - 0s 5ms/sample - loss: 0.0020 - val_loss: 0.0071\n",
      "Epoch 28/100\n",
      "88/88 [==============================] - 0s 5ms/sample - loss: 0.0020 - val_loss: 0.0108\n",
      "Epoch 29/100\n",
      "88/88 [==============================] - 0s 5ms/sample - loss: 0.0020 - val_loss: 0.0068\n",
      "Epoch 30/100\n",
      "88/88 [==============================] - 0s 5ms/sample - loss: 0.0020 - val_loss: 0.0077\n",
      "Epoch 31/100\n",
      "88/88 [==============================] - 0s 5ms/sample - loss: 0.0019 - val_loss: 0.0075\n",
      "Epoch 32/100\n",
      "88/88 [==============================] - 0s 5ms/sample - loss: 0.0021 - val_loss: 0.0108\n",
      "Epoch 33/100\n",
      "88/88 [==============================] - 0s 5ms/sample - loss: 0.0019 - val_loss: 0.0094\n",
      "Epoch 34/100\n",
      "88/88 [==============================] - 0s 5ms/sample - loss: 0.0018 - val_loss: 0.0094\n",
      "Epoch 35/100\n",
      "88/88 [==============================] - 0s 5ms/sample - loss: 0.0018 - val_loss: 0.0125\n",
      "Epoch 36/100\n",
      "88/88 [==============================] - 0s 5ms/sample - loss: 0.0018 - val_loss: 0.0172\n",
      "Epoch 37/100\n",
      "88/88 [==============================] - 0s 6ms/sample - loss: 0.0023 - val_loss: 0.0132\n",
      "Epoch 38/100\n",
      "88/88 [==============================] - 1s 7ms/sample - loss: 0.0025 - val_loss: 0.0080\n",
      "Epoch 39/100\n",
      "88/88 [==============================] - 0s 5ms/sample - loss: 0.0019 - val_loss: 0.0152\n",
      "Epoch 40/100\n",
      "88/88 [==============================] - 0s 5ms/sample - loss: 0.0019 - val_loss: 0.0111\n",
      "Epoch 41/100\n",
      "88/88 [==============================] - 0s 5ms/sample - loss: 0.0021 - val_loss: 0.0198\n",
      "Epoch 42/100\n",
      "88/88 [==============================] - 0s 5ms/sample - loss: 0.0021 - val_loss: 0.0113\n",
      "Epoch 43/100\n",
      "88/88 [==============================] - 0s 5ms/sample - loss: 0.0020 - val_loss: 0.0150\n",
      "Epoch 44/100\n",
      "88/88 [==============================] - 0s 5ms/sample - loss: 0.0018 - val_loss: 0.0155\n",
      "Epoch 45/100\n",
      "88/88 [==============================] - 0s 5ms/sample - loss: 0.0018 - val_loss: 0.0081\n",
      "Epoch 46/100\n",
      "88/88 [==============================] - 0s 5ms/sample - loss: 0.0018 - val_loss: 0.0103\n",
      "Epoch 47/100\n",
      "88/88 [==============================] - 1s 7ms/sample - loss: 0.0019 - val_loss: 0.0089\n",
      "Epoch 48/100\n",
      "88/88 [==============================] - 0s 5ms/sample - loss: 0.0019 - val_loss: 0.0130\n",
      "Epoch 49/100\n",
      "88/88 [==============================] - 1s 6ms/sample - loss: 0.0018 - val_loss: 0.0144\n",
      "Epoch 50/100\n",
      "88/88 [==============================] - 0s 5ms/sample - loss: 0.0021 - val_loss: 0.0134\n",
      "Epoch 51/100\n",
      "88/88 [==============================] - 0s 5ms/sample - loss: 0.0018 - val_loss: 0.0083\n",
      "Epoch 52/100\n",
      "88/88 [==============================] - 0s 5ms/sample - loss: 0.0023 - val_loss: 0.0122\n",
      "Epoch 53/100\n",
      "88/88 [==============================] - 1s 6ms/sample - loss: 0.0019 - val_loss: 0.0087\n",
      "Epoch 54/100\n",
      "88/88 [==============================] - 0s 5ms/sample - loss: 0.0018 - val_loss: 0.0074\n",
      "Epoch 55/100\n",
      "88/88 [==============================] - 0s 5ms/sample - loss: 0.0019 - val_loss: 0.0101\n",
      "Epoch 56/100\n",
      "88/88 [==============================] - 1s 6ms/sample - loss: 0.0021 - val_loss: 0.0075\n",
      "Epoch 57/100\n",
      "88/88 [==============================] - 1s 6ms/sample - loss: 0.0018 - val_loss: 0.0079\n",
      "Epoch 58/100\n",
      "88/88 [==============================] - 1s 6ms/sample - loss: 0.0018 - val_loss: 0.0108\n",
      "Epoch 59/100\n",
      "88/88 [==============================] - 0s 5ms/sample - loss: 0.0018 - val_loss: 0.0071\n",
      "Epoch 60/100\n",
      "88/88 [==============================] - 0s 6ms/sample - loss: 0.0020 - val_loss: 0.0102\n",
      "Epoch 61/100\n",
      "88/88 [==============================] - 1s 6ms/sample - loss: 0.0019 - val_loss: 0.0100\n",
      "Epoch 62/100\n",
      "88/88 [==============================] - 1s 6ms/sample - loss: 0.0019 - val_loss: 0.0084\n",
      "Epoch 63/100\n",
      "88/88 [==============================] - 1s 6ms/sample - loss: 0.0019 - val_loss: 0.0107\n",
      "Epoch 64/100\n",
      "88/88 [==============================] - 0s 5ms/sample - loss: 0.0018 - val_loss: 0.0155\n",
      "Epoch 65/100\n",
      "88/88 [==============================] - 0s 5ms/sample - loss: 0.0018 - val_loss: 0.0113\n",
      "Epoch 66/100\n",
      "88/88 [==============================] - 0s 5ms/sample - loss: 0.0019 - val_loss: 0.0091\n",
      "Epoch 67/100\n",
      "88/88 [==============================] - 0s 5ms/sample - loss: 0.0017 - val_loss: 0.0108\n",
      "Epoch 68/100\n",
      "88/88 [==============================] - 0s 5ms/sample - loss: 0.0022 - val_loss: 0.0091\n",
      "Epoch 69/100\n",
      "88/88 [==============================] - 0s 5ms/sample - loss: 0.0019 - val_loss: 0.0092\n",
      "Epoch 70/100\n",
      "88/88 [==============================] - 0s 5ms/sample - loss: 0.0019 - val_loss: 0.0175\n",
      "Epoch 71/100\n",
      "88/88 [==============================] - 0s 5ms/sample - loss: 0.0019 - val_loss: 0.0348\n",
      "Epoch 72/100\n",
      "88/88 [==============================] - 0s 5ms/sample - loss: 0.0020 - val_loss: 0.0219\n",
      "Epoch 73/100\n",
      "88/88 [==============================] - 0s 5ms/sample - loss: 0.0019 - val_loss: 0.0084\n",
      "Epoch 74/100\n",
      "88/88 [==============================] - 0s 5ms/sample - loss: 0.0019 - val_loss: 0.0069\n",
      "Epoch 75/100\n",
      "88/88 [==============================] - 0s 5ms/sample - loss: 0.0018 - val_loss: 0.0144\n",
      "Epoch 76/100\n",
      "88/88 [==============================] - 0s 5ms/sample - loss: 0.0019 - val_loss: 0.0114\n",
      "Epoch 77/100\n",
      "88/88 [==============================] - 0s 5ms/sample - loss: 0.0018 - val_loss: 0.0104\n",
      "Epoch 78/100\n",
      "88/88 [==============================] - 0s 5ms/sample - loss: 0.0019 - val_loss: 0.0282\n",
      "Epoch 79/100\n",
      "88/88 [==============================] - 0s 5ms/sample - loss: 0.0017 - val_loss: 0.0094\n",
      "Epoch 80/100\n",
      "88/88 [==============================] - 0s 5ms/sample - loss: 0.0018 - val_loss: 0.0122\n"
     ]
    },
    {
     "name": "stdout",
     "output_type": "stream",
     "text": [
      "Epoch 81/100\n",
      "88/88 [==============================] - 0s 5ms/sample - loss: 0.0019 - val_loss: 0.0116\n",
      "Epoch 82/100\n",
      "88/88 [==============================] - 0s 6ms/sample - loss: 0.0020 - val_loss: 0.0153\n",
      "Epoch 83/100\n",
      "88/88 [==============================] - 0s 5ms/sample - loss: 0.0019 - val_loss: 0.0116\n",
      "Epoch 84/100\n",
      "88/88 [==============================] - 0s 5ms/sample - loss: 0.0021 - val_loss: 0.0152\n",
      "Epoch 85/100\n",
      "88/88 [==============================] - 0s 5ms/sample - loss: 0.0020 - val_loss: 0.0129\n",
      "Epoch 86/100\n",
      "88/88 [==============================] - 0s 5ms/sample - loss: 0.0019 - val_loss: 0.0212\n",
      "Epoch 87/100\n",
      "88/88 [==============================] - 0s 5ms/sample - loss: 0.0018 - val_loss: 0.0108\n",
      "Epoch 88/100\n",
      "88/88 [==============================] - 0s 5ms/sample - loss: 0.0020 - val_loss: 0.0322\n",
      "Epoch 89/100\n",
      "88/88 [==============================] - 1s 6ms/sample - loss: 0.0018 - val_loss: 0.0084\n",
      "Epoch 90/100\n",
      "88/88 [==============================] - 1s 8ms/sample - loss: 0.0020 - val_loss: 0.0143\n",
      "Epoch 91/100\n",
      "88/88 [==============================] - 1s 7ms/sample - loss: 0.0018 - val_loss: 0.0110\n",
      "Epoch 92/100\n",
      "88/88 [==============================] - 1s 6ms/sample - loss: 0.0019 - val_loss: 0.0203\n",
      "Epoch 93/100\n",
      "88/88 [==============================] - 0s 5ms/sample - loss: 0.0019 - val_loss: 0.0169\n",
      "Epoch 94/100\n",
      "88/88 [==============================] - 1s 6ms/sample - loss: 0.0019 - val_loss: 0.0080\n",
      "Epoch 95/100\n",
      "88/88 [==============================] - 0s 6ms/sample - loss: 0.0019 - val_loss: 0.0089\n",
      "Epoch 96/100\n",
      "88/88 [==============================] - 0s 5ms/sample - loss: 0.0019 - val_loss: 0.0122\n",
      "Epoch 97/100\n",
      "88/88 [==============================] - 0s 5ms/sample - loss: 0.0018 - val_loss: 0.0087\n",
      "Epoch 98/100\n",
      "88/88 [==============================] - 0s 6ms/sample - loss: 0.0020 - val_loss: 0.0118\n",
      "Epoch 99/100\n",
      "88/88 [==============================] - 1s 6ms/sample - loss: 0.0016 - val_loss: 0.0079\n",
      "Epoch 100/100\n",
      "88/88 [==============================] - 0s 5ms/sample - loss: 0.0020 - val_loss: 0.0202\n"
     ]
    },
    {
     "data": {
      "text/plain": [
       "<tensorflow.python.keras.callbacks.History at 0x148dc6cbb88>"
      ]
     },
     "execution_count": 25,
     "metadata": {},
     "output_type": "execute_result"
    }
   ],
   "source": [
    "model=Sequential()\n",
    "model.add(LSTM(50,return_sequences=True,input_shape=(4,1)))\n",
    "model.add(LSTM(50))\n",
    "model.add(Dense(1))\n",
    "model.compile(loss='mean_squared_error',optimizer='adam')\n",
    "model.fit(X_train,y_train,validation_data=(X_test,y_test),epochs=100,batch_size=1,verbose=1)"
   ]
  },
  {
   "cell_type": "code",
   "execution_count": 26,
   "metadata": {},
   "outputs": [],
   "source": [
    "### Lets Do the prediction and check performance metrics\n",
    "train_predict=model.predict(X_train)\n",
    "test_predict=model.predict(X_test)\n"
   ]
  },
  {
   "cell_type": "code",
   "execution_count": 27,
   "metadata": {},
   "outputs": [
    {
     "data": {
      "text/plain": [
       "array([[0.3702005 ],\n",
       "       [0.35144845],\n",
       "       [0.53121793],\n",
       "       [0.37950262],\n",
       "       [0.48530373],\n",
       "       [0.6459993 ],\n",
       "       [0.61087894],\n",
       "       [0.5910455 ],\n",
       "       [0.38558245],\n",
       "       [0.36751834],\n",
       "       [0.30640164],\n",
       "       [0.46326774],\n",
       "       [0.3938514 ],\n",
       "       [0.36942855],\n",
       "       [0.53450656],\n",
       "       [0.37059706],\n",
       "       [0.5099524 ],\n",
       "       [0.66608775],\n",
       "       [0.6709614 ],\n",
       "       [0.6481314 ],\n",
       "       [0.28197533],\n",
       "       [0.44915032],\n",
       "       [0.26383704],\n",
       "       [0.46774587],\n",
       "       [0.45013025],\n",
       "       [0.3930866 ],\n",
       "       [0.6481122 ],\n",
       "       [0.4070666 ],\n",
       "       [0.6311476 ],\n",
       "       [0.66132104],\n",
       "       [0.80686104],\n",
       "       [0.59653246],\n",
       "       [0.33908042],\n",
       "       [0.43739814],\n",
       "       [0.29192126],\n",
       "       [0.58062565],\n",
       "       [0.46847898],\n",
       "       [0.45632485],\n",
       "       [0.6092731 ],\n",
       "       [0.6057055 ],\n",
       "       [0.57290137],\n",
       "       [0.830655  ],\n",
       "       [0.8311615 ],\n",
       "       [0.45810685],\n",
       "       [0.37143537],\n",
       "       [0.39716476]], dtype=float32)"
      ]
     },
     "execution_count": 27,
     "metadata": {},
     "output_type": "execute_result"
    }
   ],
   "source": [
    "test_predict"
   ]
  },
  {
   "cell_type": "code",
   "execution_count": 28,
   "metadata": {},
   "outputs": [],
   "source": [
    "##Transformback to original form\n",
    "train_predict=scaler.inverse_transform(train_predict)\n",
    "test_predict=scaler.inverse_transform(test_predict)"
   ]
  },
  {
   "cell_type": "code",
   "execution_count": 29,
   "metadata": {},
   "outputs": [
    {
     "data": {
      "text/plain": [
       "array([[295.7639 ],\n",
       "       [286.0503 ],\n",
       "       [379.1709 ],\n",
       "       [300.58237],\n",
       "       [355.38733],\n",
       "       [438.62766],\n",
       "       [420.4353 ],\n",
       "       [410.1616 ],\n",
       "       [303.73172],\n",
       "       [294.37448],\n",
       "       [262.71603],\n",
       "       [343.97272],\n",
       "       [308.01505],\n",
       "       [295.36398],\n",
       "       [380.87442],\n",
       "       [295.9693 ],\n",
       "       [368.15536],\n",
       "       [449.03348],\n",
       "       [451.558  ],\n",
       "       [439.73206],\n",
       "       [250.06322],\n",
       "       [336.65988],\n",
       "       [240.66759],\n",
       "       [346.29236],\n",
       "       [337.16748],\n",
       "       [307.61887],\n",
       "       [439.7221 ],\n",
       "       [314.8605 ],\n",
       "       [430.93448],\n",
       "       [446.5643 ],\n",
       "       [521.954  ],\n",
       "       [413.0038 ],\n",
       "       [279.64365],\n",
       "       [330.57224],\n",
       "       [255.21521],\n",
       "       [404.7641 ],\n",
       "       [346.67212],\n",
       "       [340.37628],\n",
       "       [419.60345],\n",
       "       [417.75546],\n",
       "       [400.7629 ],\n",
       "       [534.27924],\n",
       "       [534.5416 ],\n",
       "       [341.29935],\n",
       "       [296.40353],\n",
       "       [309.73135]], dtype=float32)"
      ]
     },
     "execution_count": 29,
     "metadata": {},
     "output_type": "execute_result"
    }
   ],
   "source": [
    "test_predict"
   ]
  },
  {
   "cell_type": "code",
   "execution_count": 42,
   "metadata": {},
   "outputs": [
    {
     "data": {
      "text/plain": [
       "((88, 1),\n",
       " array([[135.97876],\n",
       "        [130.35515],\n",
       "        [143.69737],\n",
       "        [153.92827],\n",
       "        [153.34204],\n",
       "        [143.70943],\n",
       "        [130.15315],\n",
       "        [117.59544],\n",
       "        [128.57191],\n",
       "        [123.88225],\n",
       "        [133.96811],\n",
       "        [147.26352],\n",
       "        [141.23825],\n",
       "        [134.35439],\n",
       "        [157.2646 ],\n",
       "        [174.04294],\n",
       "        [172.41852],\n",
       "        [163.3456 ],\n",
       "        [142.2871 ],\n",
       "        [127.4922 ],\n",
       "        [150.01465],\n",
       "        [150.25665],\n",
       "        [155.79327],\n",
       "        [183.90498],\n",
       "        [164.3751 ],\n",
       "        [179.57591],\n",
       "        [182.91418],\n",
       "        [204.23463],\n",
       "        [199.30913],\n",
       "        [186.28783],\n",
       "        [168.26979],\n",
       "        [155.8961 ],\n",
       "        [175.62921],\n",
       "        [174.9609 ],\n",
       "        [184.67923],\n",
       "        [197.28647],\n",
       "        [182.35095],\n",
       "        [189.57097],\n",
       "        [225.84412],\n",
       "        [227.8978 ],\n",
       "        [243.083  ],\n",
       "        [200.9829 ],\n",
       "        [197.61966],\n",
       "        [178.15872],\n",
       "        [203.8463 ],\n",
       "        [197.2066 ],\n",
       "        [199.21667],\n",
       "        [245.03845],\n",
       "        [227.83418],\n",
       "        [229.08698],\n",
       "        [247.93114],\n",
       "        [265.67523],\n",
       "        [267.2164 ],\n",
       "        [223.47374],\n",
       "        [213.90166],\n",
       "        [183.54291],\n",
       "        [212.82529],\n",
       "        [204.87344],\n",
       "        [189.19258],\n",
       "        [247.72726],\n",
       "        [217.6844 ],\n",
       "        [238.41351],\n",
       "        [269.90903],\n",
       "        [304.69113],\n",
       "        [273.38684],\n",
       "        [247.17598],\n",
       "        [226.62675],\n",
       "        [204.56956],\n",
       "        [240.72891],\n",
       "        [240.55122],\n",
       "        [228.7781 ],\n",
       "        [277.74756],\n",
       "        [258.36563],\n",
       "        [268.18283],\n",
       "        [327.51328],\n",
       "        [363.2231 ],\n",
       "        [305.7802 ],\n",
       "        [293.82748],\n",
       "        [255.64091],\n",
       "        [228.09673],\n",
       "        [296.24548],\n",
       "        [269.49902],\n",
       "        [270.56625],\n",
       "        [329.90897],\n",
       "        [287.2866 ],\n",
       "        [316.29718],\n",
       "        [389.06302],\n",
       "        [389.8628 ]], dtype=float32))"
      ]
     },
     "execution_count": 42,
     "metadata": {},
     "output_type": "execute_result"
    }
   ],
   "source": [
    "train_predict.shape,train_predict"
   ]
  },
  {
   "cell_type": "code",
   "execution_count": 43,
   "metadata": {},
   "outputs": [
    {
     "data": {
      "text/plain": [
       "220.89801692665094"
      ]
     },
     "execution_count": 43,
     "metadata": {},
     "output_type": "execute_result"
    }
   ],
   "source": [
    "### Calculate RMSE performance metrics\n",
    "import math\n",
    "from sklearn.metrics import mean_squared_error\n",
    "math.sqrt(mean_squared_error(y_train,train_predict))"
   ]
  },
  {
   "cell_type": "code",
   "execution_count": 44,
   "metadata": {},
   "outputs": [
    {
     "data": {
      "text/plain": [
       "369.475257864726"
      ]
     },
     "execution_count": 44,
     "metadata": {},
     "output_type": "execute_result"
    }
   ],
   "source": [
    "### Test Data RMSE\n",
    "math.sqrt(mean_squared_error(ytest,test_predict))"
   ]
  },
  {
   "cell_type": "code",
   "execution_count": 34,
   "metadata": {},
   "outputs": [
    {
     "data": {
      "image/png": "[encoded data removed]",
      "text/plain": [
       "<Figure size 432x288 with 1 Axes>"
      ]
     },
     "metadata": {
      "needs_background": "light"
     },
     "output_type": "display_data"
    }
   ],
   "source": [
    "### Plotting \n",
    "# shift train predictions for plotting\n",
    "look_back=4\n",
    "trainPredictPlot = numpy.empty_like(df)\n",
    "trainPredictPlot[:, :] = np.nan\n",
    "trainPredictPlot[look_back:len(train_predict)+look_back, :] = train_predict\n",
    "# shift test predictions for plotting\n",
    "testPredictPlot = numpy.empty_like(df)\n",
    "testPredictPlot[:, :] = numpy.nan\n",
    "testPredictPlot[len(train_predict)+(look_back*2)+1:len(df)-1, :] = test_predict\n",
    "# plot baseline and predictions\n",
    "plt.plot(scaler.inverse_transform(df))\n",
    "plt.plot(trainPredictPlot)\n",
    "plt.plot(testPredictPlot)\n",
    "plt.show()"
   ]
  },
  {
   "cell_type": "code",
   "execution_count": null,
   "metadata": {},
   "outputs": [],
   "source": []
  }
 ],
 "metadata": {
  "kernelspec": {
   "display_name": "Python 3",
   "language": "python",
   "name": "python3"
  },
  "language_info": {
   "codemirror_mode": {
    "name": "ipython",
    "version": 3
   },
   "file_extension": ".py",
   "mimetype": "text/x-python",
   "name": "python",
   "nbconvert_exporter": "python",
   "pygments_lexer": "ipython3",
   "version": "3.7.3"
  }
 },
 "nbformat": 4,
 "nbformat_minor": 2
}
